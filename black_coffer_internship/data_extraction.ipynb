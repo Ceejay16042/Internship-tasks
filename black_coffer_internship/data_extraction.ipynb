{
  "cells": [
    {
      "cell_type": "code",
      "execution_count": null,
      "metadata": {
        "id": "_XcJur56BHkW"
      },
      "outputs": [],
      "source": [
        "import pandas as pd\n",
        "import html5lib\n",
        "import requests\n",
        "from bs4 import BeautifulSoup"
      ]
    },
    {
      "cell_type": "code",
      "execution_count": null,
      "metadata": {
        "id": "pt0N_zFmpk4S"
      },
      "outputs": [],
      "source": [
        "def data_extraction(url):\n",
        "  data = requests.get(url)\n",
        "  soup = BeautifulSoup(data.text, 'html5lib')\n",
        "  article_title = soup.find('h1', 'entry-title')\n",
        "  article_body = soup.find('div', 'td-post-content tagdiv-type')\n",
        "\n",
        "  return article_title.text, article_body.text\n"
      ]
    },
    {
      "cell_type": "code",
      "execution_count": null,
      "metadata": {
        "id": "CS2NI44FsBg6"
      },
      "outputs": [],
      "source": [
        "article1 = data_extraction('https://insights.blackcoffer.com/rise-of-telemedicine-and-its-impact-on-livelihood-by-2040-3-2/')\n",
        "# article1"
      ]
    },
    {
      "cell_type": "code",
      "execution_count": null,
      "metadata": {
        "id": "PW1GTA0muQV3"
      },
      "outputs": [],
      "source": [
        "article2 = data_extraction('https://insights.blackcoffer.com/rise-of-e-health-and-its-impact-on-humans-by-the-year-2030/')\n",
        "# article2"
      ]
    },
    {
      "cell_type": "markdown",
      "metadata": {
        "id": "i0w3qUNw90By"
      },
      "source": []
    },
    {
      "cell_type": "code",
      "execution_count": null,
      "metadata": {
        "id": "WuI4_2ue3csM"
      },
      "outputs": [],
      "source": [
        "article3 = data_extraction('https://insights.blackcoffer.com/rise-of-telemedicine-and-its-impact-on-livelihood-by-2040-2/')\n",
        "# article4"
      ]
    },
    {
      "cell_type": "code",
      "execution_count": null,
      "metadata": {
        "id": "B_5vJfyK4bZc"
      },
      "outputs": [],
      "source": [
        "article4 = data_extraction('https://insights.blackcoffer.com/rise-of-telemedicine-and-its-impact-on-livelihood-by-2040-2-2/')\n",
        "# article5"
      ]
    },
    {
      "cell_type": "code",
      "execution_count": null,
      "metadata": {
        "id": "exr1cTgx5XaW"
      },
      "outputs": [],
      "source": [
        "article5 = data_extraction('https://insights.blackcoffer.com/rise-of-chatbots-and-its-impact-on-customer-support-by-the-year-2040/')\n",
        "# article6"
      ]
    },
    {
      "cell_type": "code",
      "execution_count": null,
      "metadata": {
        "id": "jZlYAlNg5odf"
      },
      "outputs": [],
      "source": [
        "article6 = data_extraction('https://insights.blackcoffer.com/rise-of-e-health-and-its-imapct-on-humans-by-the-year-2030/')\n",
        "# article7"
      ]
    },
    {
      "cell_type": "code",
      "execution_count": null,
      "metadata": {
        "id": "6LcVMsmI6KY4"
      },
      "outputs": [],
      "source": [
        "article7 = data_extraction('https://insights.blackcoffer.com/how-does-marketing-influence-businesses-and-consumers/')\n",
        "# article8"
      ]
    },
    {
      "cell_type": "code",
      "execution_count": null,
      "metadata": {
        "id": "2PTwPAY2AIQv"
      },
      "outputs": [],
      "source": [
        "article8 = data_extraction('https://insights.blackcoffer.com/negative-effects-of-marketing-on-society/')\n",
        "# article10"
      ]
    },
    {
      "cell_type": "code",
      "execution_count": null,
      "metadata": {
        "id": "H8TnIeaEAS_m"
      },
      "outputs": [],
      "source": [
        "article9 = data_extraction('https://insights.blackcoffer.com/how-advertisement-marketing-affects-business/')\n",
        "# article11"
      ]
    },
    {
      "cell_type": "code",
      "execution_count": null,
      "metadata": {
        "id": "G3__RYqyAhGi"
      },
      "outputs": [],
      "source": [
        "article10 = data_extraction(\"https://insights.blackcoffer.com/rising-it-cities-will-impact-the-economy-environment-infrastructure-and-city-life-by-the-year-2035/\")\n",
        "# article12"
      ]
    },
    {
      "cell_type": "code",
      "execution_count": null,
      "metadata": {
        "id": "ZIbxCfAAAxQA"
      },
      "outputs": [],
      "source": [
        "article11 = data_extraction(\"https://insights.blackcoffer.com/rise-of-ott-platform-and-its-impact-on-entertainment-industry-by-the-year-2030/\")\n",
        "# article13"
      ]
    },
    {
      "cell_type": "code",
      "execution_count": null,
      "metadata": {
        "id": "bwG0hR91A6dl"
      },
      "outputs": [],
      "source": [
        "article12 = data_extraction(\"https://insights.blackcoffer.com/rise-of-electric-vehicles-and-its-impact-on-livelihood-by-2040/\")\n",
        "# article14"
      ]
    },
    {
      "cell_type": "code",
      "execution_count": null,
      "metadata": {
        "id": "3yQ4nbkLB-TR"
      },
      "outputs": [],
      "source": [
        "article13 = data_extraction(\"https://insights.blackcoffer.com/oil-prices-by-the-year-2040-and-how-it-will-impact-the-world-economy/\")\n",
        "# article15"
      ]
    },
    {
      "cell_type": "code",
      "execution_count": null,
      "metadata": {
        "id": "OCrg5A8gW34U"
      },
      "outputs": [],
      "source": [
        "article14 = data_extraction(\"https://insights.blackcoffer.com/an-outlook-of-healthcare-by-the-year-2040-and-how-it-will-impact-human-lives/\")\n",
        "# article16"
      ]
    },
    {
      "cell_type": "code",
      "execution_count": null,
      "metadata": {
        "id": "sG7GWlz9bS6z"
      },
      "outputs": [],
      "source": [
        "# article17 = data_extraction_2(\"https://insights.blackcoffer.com/ai-in-healthcare-to-improve-patient-outcomes/\")\n",
        "# # article17"
      ]
    },
    {
      "cell_type": "code",
      "execution_count": null,
      "metadata": {
        "id": "mthkInuvcBUj"
      },
      "outputs": [],
      "source": [
        "article15 = data_extraction(\"https://insights.blackcoffer.com/what-if-the-creation-is-taking-over-the-creator/\")\n",
        "# article17"
      ]
    },
    {
      "cell_type": "code",
      "execution_count": null,
      "metadata": {
        "id": "54GJEAXYcG2o"
      },
      "outputs": [],
      "source": [
        "article16 = data_extraction(\"https://insights.blackcoffer.com/what-jobs-will-robots-take-from-humans-in-the-future/\")\n",
        "# article17"
      ]
    },
    {
      "cell_type": "code",
      "execution_count": null,
      "metadata": {
        "id": "utQ_IU0ScXKx"
      },
      "outputs": [],
      "source": [
        "article17 = data_extraction(\"https://insights.blackcoffer.com/will-machine-replace-the-human-in-the-future-of-work/\")\n",
        "# article18"
      ]
    },
    {
      "cell_type": "code",
      "execution_count": null,
      "metadata": {
        "id": "f2954IlxcyeE"
      },
      "outputs": [],
      "source": [
        "article18 = data_extraction(\"https://insights.blackcoffer.com/will-ai-replace-us-or-work-with-us/\")\n",
        "# article19"
      ]
    },
    {
      "cell_type": "code",
      "execution_count": null,
      "metadata": {
        "id": "7h-RI5N8c5jr"
      },
      "outputs": [],
      "source": [
        "article19 = data_extraction(\"https://insights.blackcoffer.com/man-and-machines-together-machines-are-more-diligent-than-humans-blackcoffe/\")\n",
        "# article20"
      ]
    },
    {
      "cell_type": "code",
      "execution_count": null,
      "metadata": {
        "id": "pGw-qThuc6DS"
      },
      "outputs": [],
      "source": [
        "article20 = data_extraction(\"https://insights.blackcoffer.com/in-future-or-in-upcoming-years-humans-and-machines-are-going-to-work-together-in-every-field-of-work/\")\n",
        "# article21"
      ]
    },
    {
      "cell_type": "code",
      "execution_count": null,
      "metadata": {
        "id": "eNHwBQFlc6GV"
      },
      "outputs": [],
      "source": [
        "article21 = data_extraction(\"https://insights.blackcoffer.com/how-machine-learning-will-affect-your-business/\")\n",
        "# article22"
      ]
    },
    {
      "cell_type": "code",
      "execution_count": null,
      "metadata": {
        "id": "uA-BQQnec6JF"
      },
      "outputs": [],
      "source": [
        "article22 = data_extraction(\"https://insights.blackcoffer.com/deep-learning-impact-on-areas-of-e-learning/\")\n",
        "# article23"
      ]
    },
    {
      "cell_type": "code",
      "execution_count": null,
      "metadata": {
        "id": "i3Dia5ovc6MO"
      },
      "outputs": [],
      "source": [
        "article23 = data_extraction(\"https://insights.blackcoffer.com/how-to-protect-future-data-and-its-privacy-blackcoffer/\")\n",
        "# article24"
      ]
    },
    {
      "cell_type": "code",
      "execution_count": null,
      "metadata": {
        "id": "Ert38cHYc6OY"
      },
      "outputs": [],
      "source": [
        "article24 = data_extraction(\"https://insights.blackcoffer.com/how-machines-ai-automations-and-robo-human-are-effective-in-finance-and-banking/\")\n",
        "# article25"
      ]
    },
    {
      "cell_type": "code",
      "execution_count": null,
      "metadata": {
        "id": "VWBO7KLTc6Vj"
      },
      "outputs": [],
      "source": [
        "article25 = data_extraction(\"https://insights.blackcoffer.com/ai-tool-alexa-google-assistant-finance-banking-tool-future/\")\n",
        "# article27"
      ]
    },
    {
      "cell_type": "code",
      "execution_count": null,
      "metadata": {
        "id": "nuHFmTkzc6Yn"
      },
      "outputs": [],
      "source": [
        "article26 = data_extraction(\"https://insights.blackcoffer.com/ai-healthcare-revolution-ml-technology-algorithm-google-analytics-industrialrevolution/\")\n",
        "# article28"
      ]
    },
    {
      "cell_type": "code",
      "execution_count": null,
      "metadata": {
        "id": "9sttoxA5c6bP"
      },
      "outputs": [],
      "source": [
        "article27 = data_extraction(\"https://insights.blackcoffer.com/all-you-need-to-know-about-online-marketing/\")\n",
        "# article29"
      ]
    },
    {
      "cell_type": "code",
      "execution_count": null,
      "metadata": {
        "id": "JFcVk0pQc6ew"
      },
      "outputs": [],
      "source": [
        "article28 = data_extraction(\"https://insights.blackcoffer.com/evolution-of-advertising-industry/\")\n",
        "# article30"
      ]
    },
    {
      "cell_type": "code",
      "execution_count": null,
      "metadata": {
        "id": "tiaKFjpxc6mX"
      },
      "outputs": [],
      "source": [
        "article29 = data_extraction(\"https://insights.blackcoffer.com/how-data-analytics-can-help-your-business-respond-to-the-impact-of-covid-19/\")\n",
        "# article31"
      ]
    },
    {
      "cell_type": "code",
      "execution_count": null,
      "metadata": {
        "id": "VTm20aoHc6pj"
      },
      "outputs": [],
      "source": [
        "article30 = data_extraction(\"https://insights.blackcoffer.com/environmental-impact-of-the-covid-19-pandemic-lesson-for-the-future/\")\n",
        "# article32"
      ]
    },
    {
      "cell_type": "code",
      "execution_count": null,
      "metadata": {
        "id": "LpGotdr3c6sh"
      },
      "outputs": [],
      "source": [
        "article31 = data_extraction(\"https://insights.blackcoffer.com/environmental-impact-of-the-covid-19-pandemic-lesson-for-the-future/\")\n",
        "# article33"
      ]
    },
    {
      "cell_type": "code",
      "execution_count": null,
      "metadata": {
        "id": "i_6JsaDNc6vX"
      },
      "outputs": [],
      "source": [
        "article32 = data_extraction(\"https://insights.blackcoffer.com/how-data-analytics-and-ai-are-used-to-halt-the-covid-19-pandemic/\")\n",
        "# article34"
      ]
    },
    {
      "cell_type": "code",
      "execution_count": null,
      "metadata": {
        "id": "Wa32LMV7c6x6"
      },
      "outputs": [],
      "source": [
        "article33 = data_extraction(\"https://insights.blackcoffer.com/difference-between-artificial-intelligence-machine-learning-statistics-and-data-mining/\")\n",
        "# article35"
      ]
    },
    {
      "cell_type": "code",
      "execution_count": null,
      "metadata": {
        "id": "xosPg9qcc601"
      },
      "outputs": [],
      "source": [
        "article34 = data_extraction(\"https://insights.blackcoffer.com/how-python-became-the-first-choice-for-data-science/\")\n",
        "# article36"
      ]
    },
    {
      "cell_type": "code",
      "execution_count": null,
      "metadata": {
        "id": "mDkNeaFyc66H"
      },
      "outputs": [],
      "source": [
        "article35 = data_extraction(\"https://insights.blackcoffer.com/how-google-fit-measure-heart-and-respiratory-rates-using-a-phone/\")\n",
        "# article37"
      ]
    },
    {
      "cell_type": "code",
      "execution_count": null,
      "metadata": {
        "id": "xpc_WUCgc68i"
      },
      "outputs": [],
      "source": [
        "article36 = data_extraction(\"https://insights.blackcoffer.com/what-is-the-future-of-mobile-apps/\")\n",
        "# article38"
      ]
    },
    {
      "cell_type": "code",
      "execution_count": null,
      "metadata": {
        "id": "yBpP46EHc6_L"
      },
      "outputs": [],
      "source": [
        "article37 = data_extraction(\"https://insights.blackcoffer.com/impact-of-ai-in-health-and-medicine/\")\n",
        "# article39"
      ]
    },
    {
      "cell_type": "code",
      "execution_count": null,
      "metadata": {
        "id": "d53TAw5Fc7CA"
      },
      "outputs": [],
      "source": [
        "article38 = data_extraction(\"https://insights.blackcoffer.com/telemedicine-what-patients-like-and-dislike-about-it/\")\n",
        "# article40"
      ]
    },
    {
      "cell_type": "code",
      "execution_count": null,
      "metadata": {
        "id": "Qr3kCNOEc7Fc"
      },
      "outputs": [],
      "source": [
        "article39 = data_extraction(\"https://insights.blackcoffer.com/how-we-forecast-future-technologies/\")\n",
        "# article41"
      ]
    },
    {
      "cell_type": "code",
      "execution_count": null,
      "metadata": {
        "id": "P20pQy3Xc7I9"
      },
      "outputs": [],
      "source": [
        "article40 = data_extraction(\"https://insights.blackcoffer.com/can-robots-tackle-late-life-loneliness/\")\n",
        "# article42"
      ]
    },
    {
      "cell_type": "code",
      "execution_count": null,
      "metadata": {
        "id": "l-k-lnudc7LR"
      },
      "outputs": [],
      "source": [
        "article41 = data_extraction(\"https://insights.blackcoffer.com/embedding-care-robots-into-society-socio-technical-considerations/\")\n",
        "# article43"
      ]
    },
    {
      "cell_type": "code",
      "execution_count": null,
      "metadata": {
        "id": "2gZ1dNc8c7Oe"
      },
      "outputs": [],
      "source": [
        "article42 = data_extraction(\"https://insights.blackcoffer.com/management-challenges-for-future-digitalization-of-healthcare-services/\")\n",
        "# article44"
      ]
    },
    {
      "cell_type": "code",
      "execution_count": null,
      "metadata": {
        "id": "J1XyostVc7RS"
      },
      "outputs": [],
      "source": [
        "article43 = data_extraction(\"https://insights.blackcoffer.com/are-we-any-closer-to-preventing-a-nuclear-holocaust/\")\n",
        "# article45"
      ]
    },
    {
      "cell_type": "code",
      "execution_count": null,
      "metadata": {
        "id": "MtileyfYc7Ug"
      },
      "outputs": [],
      "source": [
        "article44 = data_extraction(\"https://insights.blackcoffer.com/will-technology-eliminate-the-need-for-animal-testing-in-drug-development/\")\n",
        "# article46"
      ]
    },
    {
      "cell_type": "code",
      "execution_count": null,
      "metadata": {
        "id": "Ihvx8q7qc7Xq"
      },
      "outputs": [],
      "source": [
        "article45 = data_extraction(\"https://insights.blackcoffer.com/will-we-ever-understand-the-nature-of-consciousness/\")\n",
        "# article47"
      ]
    },
    {
      "cell_type": "code",
      "execution_count": null,
      "metadata": {
        "id": "4AvHB3P0c7bQ"
      },
      "outputs": [],
      "source": [
        "article46 = data_extraction(\"https://insights.blackcoffer.com/will-we-ever-colonize-outer-space/\")\n",
        "# article48"
      ]
    },
    {
      "cell_type": "code",
      "execution_count": null,
      "metadata": {
        "id": "r8VHbhzpc7fX"
      },
      "outputs": [],
      "source": [
        "article47 = data_extraction(\"https://insights.blackcoffer.com/what-is-the-chance-homo-sapiens-will-survive-for-the-next-500-years/\")\n",
        "# article49"
      ]
    },
    {
      "cell_type": "code",
      "execution_count": null,
      "metadata": {
        "id": "6pDIaWV8c7jh"
      },
      "outputs": [],
      "source": [
        "article48 = data_extraction(\"https://insights.blackcoffer.com/why-does-your-business-need-a-chatbot/\")\n",
        "# article50"
      ]
    },
    {
      "cell_type": "code",
      "execution_count": null,
      "metadata": {
        "id": "v1WgnPl7c7mm"
      },
      "outputs": [],
      "source": [
        "article49 = data_extraction(\"https://insights.blackcoffer.com/how-you-lead-a-project-or-a-team-without-any-technical-expertise/\")\n",
        "# article51"
      ]
    },
    {
      "cell_type": "code",
      "execution_count": null,
      "metadata": {
        "id": "KIzHfxuCc7q3"
      },
      "outputs": [],
      "source": [
        "article50 = data_extraction(\"https://insights.blackcoffer.com/can-you-be-great-leader-without-technical-expertise/\")\n",
        "# article52"
      ]
    },
    {
      "cell_type": "code",
      "execution_count": null,
      "metadata": {
        "id": "3kidln87c7uU"
      },
      "outputs": [],
      "source": [
        "article51 = data_extraction(\"https://insights.blackcoffer.com/how-does-artificial-intelligence-affect-the-environment/\")\n",
        "# article53"
      ]
    },
    {
      "cell_type": "code",
      "execution_count": null,
      "metadata": {
        "id": "0wpA102qc7yr"
      },
      "outputs": [],
      "source": [
        "article52 = data_extraction(\"https://insights.blackcoffer.com/how-to-overcome-your-fear-of-making-mistakes-\")\n",
        "# article54"
      ]
    },
    {
      "cell_type": "code",
      "execution_count": null,
      "metadata": {
        "id": "7H6PT-TMc73q"
      },
      "outputs": [],
      "source": [
        "article53 = data_extraction(\"https://insights.blackcoffer.com/is-perfection-the-greatest-enemy-of-productivity/\")\n",
        "# article55"
      ]
    },
    {
      "cell_type": "code",
      "execution_count": null,
      "metadata": {
        "id": "1oZgYCnxc77c"
      },
      "outputs": [],
      "source": [
        "article54 = data_extraction(\"https://insights.blackcoffer.com/global-financial-crisis-2008-causes-effects-and-its-solution/\")\n",
        "# article56"
      ]
    },
    {
      "cell_type": "code",
      "execution_count": null,
      "metadata": {
        "id": "pn6VONCfc7_j"
      },
      "outputs": [],
      "source": [
        "article55 = data_extraction(\"https://insights.blackcoffer.com/gender-diversity-and-equality-in-the-tech-industry/\")\n",
        "# article57"
      ]
    },
    {
      "cell_type": "code",
      "execution_count": null,
      "metadata": {
        "id": "Thd9oNWsc8FJ"
      },
      "outputs": [],
      "source": [
        "article56 = data_extraction(\"https://insights.blackcoffer.com/how-to-overcome-your-fear-of-making-mistakes/\")\n",
        "# article58"
      ]
    },
    {
      "cell_type": "code",
      "execution_count": null,
      "metadata": {
        "id": "_ReIPUZEc8Ka"
      },
      "outputs": [],
      "source": [
        "article57 = data_extraction(\"https://insights.blackcoffer.com/how-small-business-can-survive-the-coronavirus-crisis/\")\n",
        "# article59"
      ]
    },
    {
      "cell_type": "code",
      "execution_count": null,
      "metadata": {
        "id": "hKB1WLWIc4WG"
      },
      "outputs": [],
      "source": [
        "article58 = data_extraction(\"https://insights.blackcoffer.com/impacts-of-covid-19-on-vegetable-vendors-and-food-stalls/\")\n",
        "# article60"
      ]
    },
    {
      "cell_type": "code",
      "execution_count": null,
      "metadata": {
        "id": "vZnlCuLCc4iT"
      },
      "outputs": [],
      "source": [
        "article59 = data_extraction(\"https://insights.blackcoffer.com/impacts-of-covid-19-on-vegetable-vendors/\")\n",
        "# article61"
      ]
    },
    {
      "cell_type": "code",
      "execution_count": null,
      "metadata": {
        "id": "gaOEZstqc4mo"
      },
      "outputs": [],
      "source": [
        "article60 = data_extraction(\"https://insights.blackcoffer.com/impact-of-covid-19-pandemic-on-tourism-aviation-industries/\")\n",
        "# article62"
      ]
    },
    {
      "cell_type": "code",
      "execution_count": null,
      "metadata": {
        "id": "JV9WedWLc4qX"
      },
      "outputs": [],
      "source": [
        "article61 = data_extraction(\"https://insights.blackcoffer.com/impact-of-covid-19-pandemic-on-sports-events-around-the-world/\")\n",
        "# article63"
      ]
    },
    {
      "cell_type": "code",
      "execution_count": null,
      "metadata": {
        "id": "u6SMa5oNc4uH"
      },
      "outputs": [],
      "source": [
        "article62 = data_extraction(\"https://insights.blackcoffer.com/changing-landscape-and-emerging-trends-in-the-indian-it-ites-industry/\")\n",
        "# article64"
      ]
    },
    {
      "cell_type": "code",
      "execution_count": null,
      "metadata": {
        "id": "2VmH0evZc4yt"
      },
      "outputs": [],
      "source": [
        "article63 = data_extraction(\"https://insights.blackcoffer.com/online-gaming-adolescent-online-gaming-effects-demotivated-depression-musculoskeletal-and-psychosomatic-symptoms/\")\n",
        "# article65"
      ]
    },
    {
      "cell_type": "code",
      "execution_count": null,
      "metadata": {
        "id": "9IWKir-jc3uv"
      },
      "outputs": [],
      "source": [
        "article64 = data_extraction(\"https://insights.blackcoffer.com/how-the-covid-19-crisis-is-redefining-jobs-and-services/\")\n",
        "# article68"
      ]
    },
    {
      "cell_type": "code",
      "execution_count": null,
      "metadata": {
        "id": "7qenJHh8c3NZ"
      },
      "outputs": [],
      "source": [
        "article65 = data_extraction(\"https://insights.blackcoffer.com/how-to-increase-social-media-engagement-for-marketers/\")\n",
        "# article69"
      ]
    },
    {
      "cell_type": "code",
      "execution_count": null,
      "metadata": {
        "id": "pMy7aFo4ntEN"
      },
      "outputs": [],
      "source": [
        "article66 = data_extraction(\"https://insights.blackcoffer.com/impacts-of-covid-19-on-streets-sides-food-stalls/\")\n",
        "# article70"
      ]
    },
    {
      "cell_type": "code",
      "execution_count": null,
      "metadata": {
        "id": "LSuWWtnEn1Dr"
      },
      "outputs": [],
      "source": [
        "article67 = data_extraction(\"https://insights.blackcoffer.com/coronavirus-impact-on-energy-markets-2/\")\n",
        "# article71"
      ]
    },
    {
      "cell_type": "code",
      "execution_count": null,
      "metadata": {
        "id": "zvoKcNYIn3Ny"
      },
      "outputs": [],
      "source": [
        "article68 = data_extraction(\"https://insights.blackcoffer.com/coronavirus-impact-on-the-hospitality-industry-5/\")\n",
        "# article72"
      ]
    },
    {
      "cell_type": "code",
      "execution_count": null,
      "metadata": {
        "id": "jR_h1qOZoNN2"
      },
      "outputs": [],
      "source": [
        "article69 = data_extraction(\"https://insights.blackcoffer.com/lessons-from-the-past-some-key-learnings-relevant-to-the-coronavirus-crisis-4/\")\n",
        "# article73"
      ]
    },
    {
      "cell_type": "code",
      "execution_count": null,
      "metadata": {
        "id": "SfqvFJYqn5d0"
      },
      "outputs": [],
      "source": [
        "article70 = data_extraction(\"https://insights.blackcoffer.com/estimating-the-impact-of-covid-19-on-the-world-of-work-2/\")\n",
        "# article74"
      ]
    },
    {
      "cell_type": "code",
      "execution_count": null,
      "metadata": {
        "id": "Olz1G4Ppoay0"
      },
      "outputs": [],
      "source": [
        "article71 = data_extraction(\"https://insights.blackcoffer.com/travel-and-tourism-outlook/\")\n",
        "# article76"
      ]
    },
    {
      "cell_type": "code",
      "execution_count": null,
      "metadata": {
        "id": "B-7NXbIcocGF"
      },
      "outputs": [],
      "source": [
        "article72 = data_extraction(\"https://insights.blackcoffer.com/gaming-disorder-and-effects-of-gaming-on-health/\")\n",
        "# article77"
      ]
    },
    {
      "cell_type": "code",
      "execution_count": null,
      "metadata": {
        "id": "jrAQ5PsXgV4x"
      },
      "outputs": [],
      "source": [
        "article73 = data_extraction(\"https://insights.blackcoffer.com/what-is-the-repercussion-of-the-environment-due-to-the-covid-19-pandemic-situation/\")\n",
        "# article78"
      ]
    },
    {
      "cell_type": "code",
      "execution_count": null,
      "metadata": {
        "id": "xIU3reKegV91"
      },
      "outputs": [],
      "source": [
        "article74 = data_extraction(\"https://insights.blackcoffer.com/what-is-the-repercussion-of-the-environment-due-to-the-covid-19-pandemic-situation-2/\")\n",
        "# article79"
      ]
    },
    {
      "cell_type": "code",
      "execution_count": null,
      "metadata": {
        "id": "DB9NZAN0gWAp"
      },
      "outputs": [],
      "source": [
        "article75 = data_extraction(\"https://insights.blackcoffer.com/impact-of-covid-19-pandemic-on-office-space-and-co-working-industries/\")\n",
        "# article80"
      ]
    },
    {
      "cell_type": "code",
      "execution_count": null,
      "metadata": {
        "id": "e3W9yMaTgWFX"
      },
      "outputs": [],
      "source": [
        "article76 = data_extraction(\"https://insights.blackcoffer.com/contribution-of-handicrafts-visual-arts-literature-in-the-indian-economy/\")\n",
        "# article81"
      ]
    },
    {
      "cell_type": "code",
      "execution_count": null,
      "metadata": {
        "id": "yy3uNmBjgWO_"
      },
      "outputs": [],
      "source": [
        "article77 = data_extraction(\"https://insights.blackcoffer.com/lessons-from-the-past-some-key-learnings-relevant-to-the-coronavirus-crisis/\")"
      ]
    },
    {
      "cell_type": "code",
      "execution_count": null,
      "metadata": {
        "id": "hUaTjL86gWwL"
      },
      "outputs": [],
      "source": [
        "article78 = data_extraction(\"https://insights.blackcoffer.com/covid-19-how-have-countries-been-responding/\")"
      ]
    },
    {
      "cell_type": "code",
      "execution_count": null,
      "metadata": {
        "id": "B3ceJQi6gW0m"
      },
      "outputs": [],
      "source": [
        "article79 = data_extraction(\"https://insights.blackcoffer.com/coronavirus-impact-on-the-hospitality-industry-2/\")"
      ]
    },
    {
      "cell_type": "code",
      "execution_count": null,
      "metadata": {
        "id": "Nc0e53IRgXOD"
      },
      "outputs": [],
      "source": [
        "article80 = data_extraction(\"https://insights.blackcoffer.com/coronavirus-impact-on-the-hospitality-industry-3/\")"
      ]
    },
    {
      "cell_type": "code",
      "execution_count": null,
      "metadata": {
        "id": "4kOkZtA2kyEb"
      },
      "outputs": [],
      "source": [
        "article81 = data_extraction(\"https://insights.blackcoffer.com/estimating-the-impact-of-covid-19-on-the-world-of-work/\")"
      ]
    },
    {
      "cell_type": "code",
      "execution_count": null,
      "metadata": {
        "id": "lYxXvwAckyJU"
      },
      "outputs": [],
      "source": [
        "article82 = data_extraction(\"https://insights.blackcoffer.com/covid-19-how-have-countries-been-responding-2/\")"
      ]
    },
    {
      "cell_type": "code",
      "execution_count": null,
      "metadata": {
        "id": "3FhxcG35kyMY"
      },
      "outputs": [],
      "source": [
        "article83 = data_extraction(\"https://insights.blackcoffer.com/how-will-covid-19-affect-the-world-of-work-4/\")"
      ]
    },
    {
      "cell_type": "code",
      "execution_count": null,
      "metadata": {
        "id": "LJjS5r3Fkyjq"
      },
      "outputs": [],
      "source": [
        "article84 = data_extraction(\"https://insights.blackcoffer.com/lessons-from-the-past-some-key-learnings-relevant-to-the-coronavirus-crisis-2/\")"
      ]
    },
    {
      "cell_type": "code",
      "execution_count": null,
      "metadata": {
        "id": "lSVTk8Txkyqc"
      },
      "outputs": [],
      "source": [
        "article85 = data_extraction(\"https://insights.blackcoffer.com/lessons-from-the-past-some-key-learnings-relevant-to-the-coronavirus-crisis-3/\")"
      ]
    },
    {
      "cell_type": "code",
      "execution_count": null,
      "metadata": {
        "id": "_3_02aUWkyw8"
      },
      "outputs": [],
      "source": [
        "article86 = data_extraction(\"https://insights.blackcoffer.com/coronavirus-impact-on-the-hospitality-industry-4/\")"
      ]
    },
    {
      "cell_type": "code",
      "execution_count": null,
      "metadata": {
        "id": "v42rvabjky2a"
      },
      "outputs": [],
      "source": [
        "article87 = data_extraction(\"https://insights.blackcoffer.com/why-scams-like-nirav-modi-happen-with-indian-banks/\")"
      ]
    },
    {
      "cell_type": "code",
      "execution_count": null,
      "metadata": {
        "id": "lCMnmbteky9Q"
      },
      "outputs": [],
      "source": [
        "article88 = data_extraction(\"https://insights.blackcoffer.com/impact-of-covid-19-on-the-global-economy/\")"
      ]
    },
    {
      "cell_type": "code",
      "execution_count": null,
      "metadata": {
        "id": "oj3nvV9wkzGd"
      },
      "outputs": [],
      "source": [
        "article89 = data_extraction(\"https://insights.blackcoffer.com/impact-of-covid-19coronavirus-on-the-indian-economy-2/\")"
      ]
    },
    {
      "cell_type": "code",
      "execution_count": null,
      "metadata": {
        "id": "ZNvRBV-zl3EE"
      },
      "outputs": [],
      "source": [
        "article90 = data_extraction(\"https://insights.blackcoffer.com/impact-of-covid-19-on-the-global-economy-2/\")"
      ]
    },
    {
      "cell_type": "code",
      "execution_count": null,
      "metadata": {
        "id": "LEkxYHyUl3aP"
      },
      "outputs": [],
      "source": [
        "article91 = data_extraction(\"https://insights.blackcoffer.com/impact-of-covid-19-coronavirus-on-the-indian-economy-3/\")"
      ]
    },
    {
      "cell_type": "code",
      "execution_count": null,
      "metadata": {
        "id": "3y7mB1GfmlTT"
      },
      "outputs": [],
      "source": [
        "article92 = data_extraction(\"https://insights.blackcoffer.com/should-celebrities-be-allowed-to-join-politics/\")"
      ]
    },
    {
      "cell_type": "code",
      "execution_count": null,
      "metadata": {
        "id": "NQ-MhtNImuR6"
      },
      "outputs": [],
      "source": [
        "article93 = data_extraction(\"https://insights.blackcoffer.com/how-prepared-is-india-to-tackle-a-possible-covid-19-outbreak/\")"
      ]
    },
    {
      "cell_type": "code",
      "execution_count": null,
      "metadata": {
        "id": "TA0NXeItm4GV"
      },
      "outputs": [],
      "source": [
        "article94 = data_extraction(\"https://insights.blackcoffer.com/how-will-covid-19-affect-the-world-of-work/\")"
      ]
    },
    {
      "cell_type": "code",
      "execution_count": null,
      "metadata": {
        "id": "tvSV0eLNm4MB"
      },
      "outputs": [],
      "source": [
        "article95 = data_extraction(\"https://insights.blackcoffer.com/controversy-as-a-marketing-strategy/\")"
      ]
    },
    {
      "cell_type": "code",
      "execution_count": null,
      "metadata": {
        "id": "OTG5vrDGnHCt"
      },
      "outputs": [],
      "source": [
        "article96 = data_extraction(\"https://insights.blackcoffer.com/coronavirus-impact-on-the-hospitality-industry/\")"
      ]
    },
    {
      "cell_type": "code",
      "execution_count": null,
      "metadata": {
        "id": "DoIj2ygPnOvM"
      },
      "outputs": [],
      "source": [
        "article97 = data_extraction(\"https://insights.blackcoffer.com/coronavirus-impact-on-energy-markets/\")"
      ]
    },
    {
      "cell_type": "code",
      "execution_count": null,
      "metadata": {
        "id": "u-UircnwnPEj"
      },
      "outputs": [],
      "source": [
        "article98 = data_extraction(\"https://insights.blackcoffer.com/what-are-the-key-policies-that-will-mitigate-the-impacts-of-covid-19-on-the-world-of-work/\")"
      ]
    },
    {
      "cell_type": "code",
      "execution_count": null,
      "metadata": {
        "id": "ToV89t7FnPUl"
      },
      "outputs": [],
      "source": [
        "article99 = data_extraction(\"https://insights.blackcoffer.com/marketing-drives-results-with-a-focus-on-problems/\")"
      ]
    },
    {
      "cell_type": "code",
      "execution_count": null,
      "metadata": {
        "id": "aptALPlYnPlU"
      },
      "outputs": [],
      "source": [
        "article100 = data_extraction(\"https://insights.blackcoffer.com/continued-demand-for-sustainability/\")"
      ]
    },
    {
      "cell_type": "code",
      "execution_count": null,
      "metadata": {
        "id": "KN3x_Ogm6etv"
      },
      "outputs": [],
      "source": [
        "data = {'URL_ID':[123,321,2345,4321,432,2893.8,3355.6,3817.4,4279.2,4741,\n",
        "5202.8,5664.6,6126.4,6588.2,7050,7511.8,7973.6,8435.4,8897.2,9359,\n",
        "9820.8,10282.6,10744.4,11206.2,11668,12129.8,12591.6,13053.4,13515.2,13977,\n",
        "14438.8,14900.6,15362.4,15824.2,16286,16747.8,17209.6,17671.4,18133.218595,\n",
        "19056.8,19518.6,19980.4,20442.2,20904,21365.8,21827.6,22289.4,22751.2,23213,\n",
        "23674.8,24136.6,24598.4,25060.2,25522,25983.8,26445.6,26907.4,27369.2,27831,\n",
        "28292.8,28754.6,29216.4,29678.2,30140,30601.8,31063.6,31525.4,31987.2,32449,\n",
        "32910.8,33372.6,33834.4,34296.2,34758,35219.8,35681.6,36143.4,36605.2,37067,\n",
        "37528.8,37990.6,38452.4,38914.2,39376,39837.8,40299.6,40761.4,41223.2,41685,\n",
        "42146.8,42608.6,43070.4,43532.2,43994,44455.8,44917.6,45379.4,45841.2,46303, 45841.2],\n",
        "        'URL': ['https://insights.blackcoffer.com/rise-of-telemedicine-and-its-impact-on-livelihood-by-2040-3-2/',\n",
        "'https://insights.blackcoffer.com/rise-of-e-health-and-its-impact-on-humans-by-the-year-2030/',\n",
        "'https://insights.blackcoffer.com/rise-of-telemedicine-and-its-impact-on-livelihood-by-2040-2/',\n",
        "'https://insights.blackcoffer.com/rise-of-telemedicine-and-its-impact-on-livelihood-by-2040-2-2/',\n",
        "'https://insights.blackcoffer.com/rise-of-chatbots-and-its-impact-on-customer-support-by-the-year-2040/',\n",
        "'https://insights.blackcoffer.com/rise-of-e-health-and-its-imapct-on-humans-by-the-year-2030/',\n",
        "'https://insights.blackcoffer.com/how-does-marketing-influence-businesses-and-consumers/',\n",
        "'https://insights.blackcoffer.com/negative-effects-of-marketing-on-society/',\n",
        "'https://insights.blackcoffer.com/how-advertisement-increase-your-market-value/',\n",
        "'https://insights.blackcoffer.com/negative-effects-of-marketing-on-society/',\n",
        "'https://insights.blackcoffer.com/how-advertisement-marketing-affects-business/',\n",
        "'https://insights.blackcoffer.com/rising-it-cities-will-impact-the-economy-environment-infrastructure-and-city-life-by-the-year-2035/',\n",
        "'https://insights.blackcoffer.com/rise-of-ott-platform-and-its-impact-on-entertainment-industry-by-the-year-2030/',\n",
        "'https://insights.blackcoffer.com/rise-of-electric-vehicles-and-its-impact-on-livelihood-by-2040/',\n",
        "'https://insights.blackcoffer.com/oil-prices-by-the-year-2040-and-how-it-will-impact-the-world-economy/'\n",
        "'https://insights.blackcoffer.com/an-outlook-of-healthcare-by-the-year-2040-and-how-it-will-impact-human-lives/',\n",
        "'https://insights.blackcoffer.com/what-if-the-creation-is-taking-over-the-creator/',\n",
        "'https://insights.blackcoffer.com/what-jobs-will-robots-take-from-humans-in-the-future/',\n",
        "'https://insights.blackcoffer.com/will-machine-replace-the-human-in-the-future-of-work/',\n",
        "'https://insights.blackcoffer.com/will-ai-replace-us-or-work-with-us/',\n",
        "'https://insights.blackcoffer.com/man-and-machines-together-machines-are-more-diligent-than-humans-blackcoffe/',\n",
        "'https://insights.blackcoffer.com/in-future-or-in-upcoming-years-humans-and-machines-are-going-to-work-together-in-every-field-of-work/',\n",
        "'https://insights.blackcoffer.com/how-machine-learning-will-affect-your-business/',\n",
        "'https://insights.blackcoffer.com/deep-learning-impact-on-areas-of-e-learning/',\n",
        "'https://insights.blackcoffer.com/how-to-protect-future-data-and-its-privacy-blackcoffer/',\n",
        "'https://insights.blackcoffer.com/how-machines-ai-automations-and-robo-human-are-effective-in-finance-and-banking/',\n",
        "'https://insights.blackcoffer.com/future-of-work-how-ai-has-entered-the-workplace/',\n",
        "'https://insights.blackcoffer.com/ai-tool-alexa-google-assistant-finance-banking-tool-future/',\n",
        "'https://insights.blackcoffer.com/ai-healthcare-revolution-ml-technology-algorithm-google-analytics-industrialrevolution/',\n",
        "'https://insights.blackcoffer.com/all-you-need-to-know-about-online-marketing/',\n",
        "'https://insights.blackcoffer.com/evolution-of-advertising-industry/',\n",
        "'https://insights.blackcoffer.com/how-data-analytics-can-help-your-business-respond-to-the-impact-of-covid-19/',\n",
        "\"https://insights.blackcoffer.com/environmental-impact-of-the-covid-19-pandemic-lesson-for-the-future/\",\n",
        "'https://insights.blackcoffer.com/environmental-impact-of-the-covid-19-pandemic-lesson-for-the-future/',\n",
        "'https://insights.blackcoffer.com/difference-between-artificial-intelligence-machine-learning-statistics-and-data-mining/',\n",
        "'https://insights.blackcoffer.com/how-python-became-the-first-choice-for-data-science/',\n",
        "'https://insights.blackcoffer.com/how-google-fit-measure-heart-and-respiratory-rates-using-a-phone/',\n",
        "'https://insights.blackcoffer.com/what-is-the-future-of-mobile-apps/',\n",
        "'https://insights.blackcoffer.com/impact-of-ai-in-health-and-medicine/',\n",
        "'https://insights.blackcoffer.com/telemedicine-what-patients-like-and-dislike-about-it/',\n",
        "'https://insights.blackcoffer.com/how-we-forecast-future-technologies/',\n",
        "'https://insights.blackcoffer.com/can-robots-tackle-late-life-loneliness/',\n",
        "'https://insights.blackcoffer.com/embedding-care-robots-into-society-socio-technical-considerations/',\n",
        "'https://insights.blackcoffer.com/management-challenges-for-future-digitalization-of-healthcare-services/',\n",
        "'https://insights.blackcoffer.com/are-we-any-closer-to-preventing-a-nuclear-holocaust/',\n",
        "'https://insights.blackcoffer.com/will-technology-eliminate-the-need-for-animal-testing-in-drug-development/',\n",
        "'https://insights.blackcoffer.com/will-we-ever-understand-the-nature-of-consciousness/',\n",
        "'https://insights.blackcoffer.com/will-we-ever-colonize-outer-space/',\n",
        "'https://insights.blackcoffer.com/what-is-the-chance-homo-sapiens-will-survive-for-the-next-500-years/',\n",
        "'https://insights.blackcoffer.com/why-does-your-business-need-a-chatbot/',\n",
        "'https://insights.blackcoffer.com/how-you-lead-a-project-or-a-team-without-any-technical-expertise/',\n",
        "'https://insights.blackcoffer.com/can-you-be-great-leader-without-technical-expertise/',\n",
        "'https://insights.blackcoffer.com/how-does-artificial-intelligence-affect-the-environment/',\n",
        "'https://insights.blackcoffer.com/how-to-overcome-your-fear-of-making-mistakes-2/',\n",
        "'https://insights.blackcoffer.com/is-perfection-the-greatest-enemy-of-productivity/',\n",
        "'https://insights.blackcoffer.com/global-financial-crisis-2008-causes-effects-and-its-solution/',\n",
        "'https://insights.blackcoffer.com/gender-diversity-and-equality-in-the-tech-industry/',\n",
        "'https://insights.blackcoffer.com/how-to-overcome-your-fear-of-making-mistakes/',\n",
        "'https://insights.blackcoffer.com/how-small-business-can-survive-the-coronavirus-crisis/',\n",
        "'https://insights.blackcoffer.com/impacts-of-covid-19-on-vegetable-vendors-and-food-stalls/',\n",
        "'https://insights.blackcoffer.com/impacts-of-covid-19-on-vegetable-vendors/',\n",
        "'https://insights.blackcoffer.com/impact-of-covid-19-pandemic-on-tourism-aviation-industries/',\n",
        "'https://insights.blackcoffer.com/impact-of-covid-19-pandemic-on-sports-events-around-the-world/',\n",
        "'https://insights.blackcoffer.com/changing-landscape-and-emerging-trends-in-the-indian-it-ites-industry/',\n",
        "'https://insights.blackcoffer.com/online-gaming-adolescent-online-gaming-effects-demotivated-depression-musculoskeletal-and-psychosomatic-symptoms/',\n",
        "'https://insights.blackcoffer.com/how-the-covid-19-crisis-is-redefining-jobs-and-services/',\n",
        "'https://insights.blackcoffer.com/how-to-increase-social-media-engagement-for-marketers/',\n",
        "'https://insights.blackcoffer.com/impacts-of-covid-19-on-streets-sides-food-stalls/',\n",
        "'https://insights.blackcoffer.com/coronavirus-impact-on-energy-markets-2/',\n",
        "'https://insights.blackcoffer.com/coronavirus-impact-on-the-hospitality-industry-5/',\n",
        "'https://insights.blackcoffer.com/lessons-from-the-past-some-key-learnings-relevant-to-the-coronavirus-crisis-4/',\n",
        "'https://insights.blackcoffer.com/estimating-the-impact-of-covid-19-on-the-world-of-work-2/',\n",
        "'https://insights.blackcoffer.com/travel-and-tourism-outlook/',\n",
        "'https://insights.blackcoffer.com/gaming-disorder-and-effects-of-gaming-on-health/',\n",
        "'https://insights.blackcoffer.com/what-is-the-repercussion-of-the-environment-due-to-the-covid-19-pandemic-situation/',\n",
        "'https://insights.blackcoffer.com/what-is-the-repercussion-of-the-environment-due-to-the-covid-19-pandemic-situation-2/',\n",
        "'https://insights.blackcoffer.com/impact-of-covid-19-pandemic-on-office-space-and-co-working-industries/',\n",
        "'https://insights.blackcoffer.com/contribution-of-handicrafts-visual-arts-literature-in-the-indian-economy/',\n",
        "'https://insights.blackcoffer.com/lessons-from-the-past-some-key-learnings-relevant-to-the-coronavirus-crisis/',\n",
        "'https://insights.blackcoffer.com/covid-19-how-have-countries-been-responding/',\n",
        "'https://insights.blackcoffer.com/coronavirus-impact-on-the-hospitality-industry-2/',\n",
        "'https://insights.blackcoffer.com/coronavirus-impact-on-the-hospitality-industry-3/',\n",
        "'https://insights.blackcoffer.com/estimating-the-impact-of-covid-19-on-the-world-of-work/',\n",
        "'https://insights.blackcoffer.com/covid-19-how-have-countries-been-responding-2/',\n",
        "'https://insights.blackcoffer.com/how-will-covid-19-affect-the-world-of-work-4/',\n",
        "'https://insights.blackcoffer.com/lessons-from-the-past-some-key-learnings-relevant-to-the-coronavirus-crisis-2/',\n",
        "'https://insights.blackcoffer.com/lessons-from-the-past-some-key-learnings-relevant-to-the-coronavirus-crisis-3/',\n",
        "'https://insights.blackcoffer.com/coronavirus-impact-on-the-hospitality-industry-4/',\n",
        "'https://insights.blackcoffer.com/why-scams-like-nirav-modi-happen-with-indian-banks/',\n",
        "'https://insights.blackcoffer.com/impact-of-covid-19-on-the-global-economy/',\n",
        "'https://insights.blackcoffer.com/impact-of-covid-19coronavirus-on-the-indian-economy-2/',\n",
        "'https://insights.blackcoffer.com/impact-of-covid-19-on-the-global-economy-2/',\n",
        "'https://insights.blackcoffer.com/impact-of-covid-19-coronavirus-on-the-indian-economy-3/',\n",
        "'https://insights.blackcoffer.com/should-celebrities-be-allowed-to-join-politics/',\n",
        "'https://insights.blackcoffer.com/how-prepared-is-india-to-tackle-a-possible-covid-19-outbreak/',\n",
        "'https://insights.blackcoffer.com/how-will-covid-19-affect-the-world-of-work/',\n",
        "'https://insights.blackcoffer.com/controversy-as-a-marketing-strategy/',\n",
        "'https://insights.blackcoffer.com/coronavirus-impact-on-the-hospitality-industry/',\n",
        "\"https://insights.blackcoffer.com/what-are-the-key-policies-that-will-mitigate-the-impacts-of-covid-19-on-the-world-of-work/\",\n",
        "\"https://insights.blackcoffer.com/marketing-drives-results-with-a-focus-on-problems/\",\n",
        "\"https://insights.blackcoffer.com/continued-demand-for-sustainability/\"\n",
        "],\n",
        "'Article_text': [article1, article2, article3, article4,\n",
        "                         article5, article6, article7, article8,\n",
        "                         article9, article10, article11, article12,\n",
        "                         article13, article14, article15, article16,\n",
        "                         article17, article18, article19, article20,\n",
        "                         article21, article22, article23, article24,\n",
        "                         article25, article26, article27, article28,\n",
        "                         article29, article30, article31, article32, article33,\n",
        "                         article34, article35, article36, article37, article38,\n",
        "                         article39, article40, article41, article42, article43,\n",
        "                         article44, article45, article46, article47, article48, article49, article50,\n",
        "                         article51, article52, article53, article54, article55, article56,\n",
        "                         article57, article58, article59, article60, article61,\n",
        "                         article62, article63, article64, article65, article66,\n",
        "                         article67, article68, article69, article70, article71,\n",
        "                         article72, article73, article74, article75, article76,\n",
        "                         article77, article78, article79, article80, article81,\n",
        "                         article82, article83, article84, article85, article86,\n",
        "                         article87, article88, article89, article90, article91,\n",
        "                         article92, article93, article94, article95,\n",
        "                         article96, article97, article98, article99,\n",
        "                         article100\n",
        "                         ]\n",
        "}\n"
      ]
    },
    {
      "cell_type": "code",
      "source": [
        "df = pd.DataFrame(data)\n",
        "df"
      ],
      "metadata": {
        "colab": {
          "base_uri": "https://localhost:8080/",
          "height": 423
        },
        "id": "UjjcZS2asThP",
        "outputId": "a7dfefa7-5516-4a93-f0ac-0eaf83be24f1"
      },
      "execution_count": null,
      "outputs": [
        {
          "output_type": "execute_result",
          "data": {
            "text/plain": [
              "     URL_ID                                                URL  \\\n",
              "0     123.0  https://insights.blackcoffer.com/rise-of-telem...   \n",
              "1     321.0  https://insights.blackcoffer.com/rise-of-e-hea...   \n",
              "2    2345.0  https://insights.blackcoffer.com/rise-of-telem...   \n",
              "3    4321.0  https://insights.blackcoffer.com/rise-of-telem...   \n",
              "4     432.0  https://insights.blackcoffer.com/rise-of-chatb...   \n",
              "..      ...                                                ...   \n",
              "95  44917.6  https://insights.blackcoffer.com/controversy-a...   \n",
              "96  45379.4  https://insights.blackcoffer.com/coronavirus-i...   \n",
              "97  45841.2  https://insights.blackcoffer.com/what-are-the-...   \n",
              "98  46303.0  https://insights.blackcoffer.com/marketing-dri...   \n",
              "99  45841.2  https://insights.blackcoffer.com/continued-dem...   \n",
              "\n",
              "                                         Article_text  \n",
              "0   (Rise of telemedicine and its Impact on Liveli...  \n",
              "1   (Rise of e-health and its impact on humans by ...  \n",
              "2   (Rise of telemedicine and its Impact on Liveli...  \n",
              "3   (Rise of telemedicine and its Impact on Liveli...  \n",
              "4   (Rise of Chatbots and its impact on customer s...  \n",
              "..                                                ...  \n",
              "95  (Coronavirus: Impact on the Hospitality Indust...  \n",
              "96  (Coronavirus impact on energy markets, \\n     ...  \n",
              "97  (What are the key policies that will mitigate ...  \n",
              "98  (Marketing Drives Results With A Focus On Prob...  \n",
              "99  (Continued Demand for Sustainability, \\n      ...  \n",
              "\n",
              "[100 rows x 3 columns]"
            ],
            "text/html": [
              "\n",
              "  <div id=\"df-1b7aa1cb-8303-4a36-a187-be67776c5ca0\" class=\"colab-df-container\">\n",
              "    <div>\n",
              "<style scoped>\n",
              "    .dataframe tbody tr th:only-of-type {\n",
              "        vertical-align: middle;\n",
              "    }\n",
              "\n",
              "    .dataframe tbody tr th {\n",
              "        vertical-align: top;\n",
              "    }\n",
              "\n",
              "    .dataframe thead th {\n",
              "        text-align: right;\n",
              "    }\n",
              "</style>\n",
              "<table border=\"1\" class=\"dataframe\">\n",
              "  <thead>\n",
              "    <tr style=\"text-align: right;\">\n",
              "      <th></th>\n",
              "      <th>URL_ID</th>\n",
              "      <th>URL</th>\n",
              "      <th>Article_text</th>\n",
              "    </tr>\n",
              "  </thead>\n",
              "  <tbody>\n",
              "    <tr>\n",
              "      <th>0</th>\n",
              "      <td>123.0</td>\n",
              "      <td>https://insights.blackcoffer.com/rise-of-telem...</td>\n",
              "      <td>(Rise of telemedicine and its Impact on Liveli...</td>\n",
              "    </tr>\n",
              "    <tr>\n",
              "      <th>1</th>\n",
              "      <td>321.0</td>\n",
              "      <td>https://insights.blackcoffer.com/rise-of-e-hea...</td>\n",
              "      <td>(Rise of e-health and its impact on humans by ...</td>\n",
              "    </tr>\n",
              "    <tr>\n",
              "      <th>2</th>\n",
              "      <td>2345.0</td>\n",
              "      <td>https://insights.blackcoffer.com/rise-of-telem...</td>\n",
              "      <td>(Rise of telemedicine and its Impact on Liveli...</td>\n",
              "    </tr>\n",
              "    <tr>\n",
              "      <th>3</th>\n",
              "      <td>4321.0</td>\n",
              "      <td>https://insights.blackcoffer.com/rise-of-telem...</td>\n",
              "      <td>(Rise of telemedicine and its Impact on Liveli...</td>\n",
              "    </tr>\n",
              "    <tr>\n",
              "      <th>4</th>\n",
              "      <td>432.0</td>\n",
              "      <td>https://insights.blackcoffer.com/rise-of-chatb...</td>\n",
              "      <td>(Rise of Chatbots and its impact on customer s...</td>\n",
              "    </tr>\n",
              "    <tr>\n",
              "      <th>...</th>\n",
              "      <td>...</td>\n",
              "      <td>...</td>\n",
              "      <td>...</td>\n",
              "    </tr>\n",
              "    <tr>\n",
              "      <th>95</th>\n",
              "      <td>44917.6</td>\n",
              "      <td>https://insights.blackcoffer.com/controversy-a...</td>\n",
              "      <td>(Coronavirus: Impact on the Hospitality Indust...</td>\n",
              "    </tr>\n",
              "    <tr>\n",
              "      <th>96</th>\n",
              "      <td>45379.4</td>\n",
              "      <td>https://insights.blackcoffer.com/coronavirus-i...</td>\n",
              "      <td>(Coronavirus impact on energy markets, \\n     ...</td>\n",
              "    </tr>\n",
              "    <tr>\n",
              "      <th>97</th>\n",
              "      <td>45841.2</td>\n",
              "      <td>https://insights.blackcoffer.com/what-are-the-...</td>\n",
              "      <td>(What are the key policies that will mitigate ...</td>\n",
              "    </tr>\n",
              "    <tr>\n",
              "      <th>98</th>\n",
              "      <td>46303.0</td>\n",
              "      <td>https://insights.blackcoffer.com/marketing-dri...</td>\n",
              "      <td>(Marketing Drives Results With A Focus On Prob...</td>\n",
              "    </tr>\n",
              "    <tr>\n",
              "      <th>99</th>\n",
              "      <td>45841.2</td>\n",
              "      <td>https://insights.blackcoffer.com/continued-dem...</td>\n",
              "      <td>(Continued Demand for Sustainability, \\n      ...</td>\n",
              "    </tr>\n",
              "  </tbody>\n",
              "</table>\n",
              "<p>100 rows × 3 columns</p>\n",
              "</div>\n",
              "    <div class=\"colab-df-buttons\">\n",
              "\n",
              "  <div class=\"colab-df-container\">\n",
              "    <button class=\"colab-df-convert\" onclick=\"convertToInteractive('df-1b7aa1cb-8303-4a36-a187-be67776c5ca0')\"\n",
              "            title=\"Convert this dataframe to an interactive table.\"\n",
              "            style=\"display:none;\">\n",
              "\n",
              "  <svg xmlns=\"http://www.w3.org/2000/svg\" height=\"24px\" viewBox=\"0 -960 960 960\">\n",
              "    <path d=\"M120-120v-720h720v720H120Zm60-500h600v-160H180v160Zm220 220h160v-160H400v160Zm0 220h160v-160H400v160ZM180-400h160v-160H180v160Zm440 0h160v-160H620v160ZM180-180h160v-160H180v160Zm440 0h160v-160H620v160Z\"/>\n",
              "  </svg>\n",
              "    </button>\n",
              "\n",
              "  <style>\n",
              "    .colab-df-container {\n",
              "      display:flex;\n",
              "      gap: 12px;\n",
              "    }\n",
              "\n",
              "    .colab-df-convert {\n",
              "      background-color: #E8F0FE;\n",
              "      border: none;\n",
              "      border-radius: 50%;\n",
              "      cursor: pointer;\n",
              "      display: none;\n",
              "      fill: #1967D2;\n",
              "      height: 32px;\n",
              "      padding: 0 0 0 0;\n",
              "      width: 32px;\n",
              "    }\n",
              "\n",
              "    .colab-df-convert:hover {\n",
              "      background-color: #E2EBFA;\n",
              "      box-shadow: 0px 1px 2px rgba(60, 64, 67, 0.3), 0px 1px 3px 1px rgba(60, 64, 67, 0.15);\n",
              "      fill: #174EA6;\n",
              "    }\n",
              "\n",
              "    .colab-df-buttons div {\n",
              "      margin-bottom: 4px;\n",
              "    }\n",
              "\n",
              "    [theme=dark] .colab-df-convert {\n",
              "      background-color: #3B4455;\n",
              "      fill: #D2E3FC;\n",
              "    }\n",
              "\n",
              "    [theme=dark] .colab-df-convert:hover {\n",
              "      background-color: #434B5C;\n",
              "      box-shadow: 0px 1px 3px 1px rgba(0, 0, 0, 0.15);\n",
              "      filter: drop-shadow(0px 1px 2px rgba(0, 0, 0, 0.3));\n",
              "      fill: #FFFFFF;\n",
              "    }\n",
              "  </style>\n",
              "\n",
              "    <script>\n",
              "      const buttonEl =\n",
              "        document.querySelector('#df-1b7aa1cb-8303-4a36-a187-be67776c5ca0 button.colab-df-convert');\n",
              "      buttonEl.style.display =\n",
              "        google.colab.kernel.accessAllowed ? 'block' : 'none';\n",
              "\n",
              "      async function convertToInteractive(key) {\n",
              "        const element = document.querySelector('#df-1b7aa1cb-8303-4a36-a187-be67776c5ca0');\n",
              "        const dataTable =\n",
              "          await google.colab.kernel.invokeFunction('convertToInteractive',\n",
              "                                                    [key], {});\n",
              "        if (!dataTable) return;\n",
              "\n",
              "        const docLinkHtml = 'Like what you see? Visit the ' +\n",
              "          '<a target=\"_blank\" href=https://colab.research.google.com/notebooks/data_table.ipynb>data table notebook</a>'\n",
              "          + ' to learn more about interactive tables.';\n",
              "        element.innerHTML = '';\n",
              "        dataTable['output_type'] = 'display_data';\n",
              "        await google.colab.output.renderOutput(dataTable, element);\n",
              "        const docLink = document.createElement('div');\n",
              "        docLink.innerHTML = docLinkHtml;\n",
              "        element.appendChild(docLink);\n",
              "      }\n",
              "    </script>\n",
              "  </div>\n",
              "\n",
              "\n",
              "<div id=\"df-9e0f111b-4114-453e-b0e6-966e1da1d4a4\">\n",
              "  <button class=\"colab-df-quickchart\" onclick=\"quickchart('df-9e0f111b-4114-453e-b0e6-966e1da1d4a4')\"\n",
              "            title=\"Suggest charts\"\n",
              "            style=\"display:none;\">\n",
              "\n",
              "<svg xmlns=\"http://www.w3.org/2000/svg\" height=\"24px\"viewBox=\"0 0 24 24\"\n",
              "     width=\"24px\">\n",
              "    <g>\n",
              "        <path d=\"M19 3H5c-1.1 0-2 .9-2 2v14c0 1.1.9 2 2 2h14c1.1 0 2-.9 2-2V5c0-1.1-.9-2-2-2zM9 17H7v-7h2v7zm4 0h-2V7h2v10zm4 0h-2v-4h2v4z\"/>\n",
              "    </g>\n",
              "</svg>\n",
              "  </button>\n",
              "\n",
              "<style>\n",
              "  .colab-df-quickchart {\n",
              "      --bg-color: #E8F0FE;\n",
              "      --fill-color: #1967D2;\n",
              "      --hover-bg-color: #E2EBFA;\n",
              "      --hover-fill-color: #174EA6;\n",
              "      --disabled-fill-color: #AAA;\n",
              "      --disabled-bg-color: #DDD;\n",
              "  }\n",
              "\n",
              "  [theme=dark] .colab-df-quickchart {\n",
              "      --bg-color: #3B4455;\n",
              "      --fill-color: #D2E3FC;\n",
              "      --hover-bg-color: #434B5C;\n",
              "      --hover-fill-color: #FFFFFF;\n",
              "      --disabled-bg-color: #3B4455;\n",
              "      --disabled-fill-color: #666;\n",
              "  }\n",
              "\n",
              "  .colab-df-quickchart {\n",
              "    background-color: var(--bg-color);\n",
              "    border: none;\n",
              "    border-radius: 50%;\n",
              "    cursor: pointer;\n",
              "    display: none;\n",
              "    fill: var(--fill-color);\n",
              "    height: 32px;\n",
              "    padding: 0;\n",
              "    width: 32px;\n",
              "  }\n",
              "\n",
              "  .colab-df-quickchart:hover {\n",
              "    background-color: var(--hover-bg-color);\n",
              "    box-shadow: 0 1px 2px rgba(60, 64, 67, 0.3), 0 1px 3px 1px rgba(60, 64, 67, 0.15);\n",
              "    fill: var(--button-hover-fill-color);\n",
              "  }\n",
              "\n",
              "  .colab-df-quickchart-complete:disabled,\n",
              "  .colab-df-quickchart-complete:disabled:hover {\n",
              "    background-color: var(--disabled-bg-color);\n",
              "    fill: var(--disabled-fill-color);\n",
              "    box-shadow: none;\n",
              "  }\n",
              "\n",
              "  .colab-df-spinner {\n",
              "    border: 2px solid var(--fill-color);\n",
              "    border-color: transparent;\n",
              "    border-bottom-color: var(--fill-color);\n",
              "    animation:\n",
              "      spin 1s steps(1) infinite;\n",
              "  }\n",
              "\n",
              "  @keyframes spin {\n",
              "    0% {\n",
              "      border-color: transparent;\n",
              "      border-bottom-color: var(--fill-color);\n",
              "      border-left-color: var(--fill-color);\n",
              "    }\n",
              "    20% {\n",
              "      border-color: transparent;\n",
              "      border-left-color: var(--fill-color);\n",
              "      border-top-color: var(--fill-color);\n",
              "    }\n",
              "    30% {\n",
              "      border-color: transparent;\n",
              "      border-left-color: var(--fill-color);\n",
              "      border-top-color: var(--fill-color);\n",
              "      border-right-color: var(--fill-color);\n",
              "    }\n",
              "    40% {\n",
              "      border-color: transparent;\n",
              "      border-right-color: var(--fill-color);\n",
              "      border-top-color: var(--fill-color);\n",
              "    }\n",
              "    60% {\n",
              "      border-color: transparent;\n",
              "      border-right-color: var(--fill-color);\n",
              "    }\n",
              "    80% {\n",
              "      border-color: transparent;\n",
              "      border-right-color: var(--fill-color);\n",
              "      border-bottom-color: var(--fill-color);\n",
              "    }\n",
              "    90% {\n",
              "      border-color: transparent;\n",
              "      border-bottom-color: var(--fill-color);\n",
              "    }\n",
              "  }\n",
              "</style>\n",
              "\n",
              "  <script>\n",
              "    async function quickchart(key) {\n",
              "      const quickchartButtonEl =\n",
              "        document.querySelector('#' + key + ' button');\n",
              "      quickchartButtonEl.disabled = true;  // To prevent multiple clicks.\n",
              "      quickchartButtonEl.classList.add('colab-df-spinner');\n",
              "      try {\n",
              "        const charts = await google.colab.kernel.invokeFunction(\n",
              "            'suggestCharts', [key], {});\n",
              "      } catch (error) {\n",
              "        console.error('Error during call to suggestCharts:', error);\n",
              "      }\n",
              "      quickchartButtonEl.classList.remove('colab-df-spinner');\n",
              "      quickchartButtonEl.classList.add('colab-df-quickchart-complete');\n",
              "    }\n",
              "    (() => {\n",
              "      let quickchartButtonEl =\n",
              "        document.querySelector('#df-9e0f111b-4114-453e-b0e6-966e1da1d4a4 button');\n",
              "      quickchartButtonEl.style.display =\n",
              "        google.colab.kernel.accessAllowed ? 'block' : 'none';\n",
              "    })();\n",
              "  </script>\n",
              "</div>\n",
              "    </div>\n",
              "  </div>\n"
            ]
          },
          "metadata": {},
          "execution_count": 113
        }
      ]
    },
    {
      "cell_type": "code",
      "source": [
        "from google.colab import files\n",
        "df.to_csv('extracted_file.csv')\n",
        "files.download('extracted_file.csv')"
      ],
      "metadata": {
        "id": "6O5qLz-bd6w0",
        "colab": {
          "base_uri": "https://localhost:8080/",
          "height": 34
        },
        "outputId": "2b5f57f5-d280-45f8-f8b1-00c897c25a51"
      },
      "execution_count": null,
      "outputs": [
        {
          "output_type": "display_data",
          "data": {
            "text/plain": [
              "<IPython.core.display.Javascript object>"
            ],
            "application/javascript": [
              "\n",
              "    async function download(id, filename, size) {\n",
              "      if (!google.colab.kernel.accessAllowed) {\n",
              "        return;\n",
              "      }\n",
              "      const div = document.createElement('div');\n",
              "      const label = document.createElement('label');\n",
              "      label.textContent = `Downloading \"${filename}\": `;\n",
              "      div.appendChild(label);\n",
              "      const progress = document.createElement('progress');\n",
              "      progress.max = size;\n",
              "      div.appendChild(progress);\n",
              "      document.body.appendChild(div);\n",
              "\n",
              "      const buffers = [];\n",
              "      let downloaded = 0;\n",
              "\n",
              "      const channel = await google.colab.kernel.comms.open(id);\n",
              "      // Send a message to notify the kernel that we're ready.\n",
              "      channel.send({})\n",
              "\n",
              "      for await (const message of channel.messages) {\n",
              "        // Send a message to notify the kernel that we're ready.\n",
              "        channel.send({})\n",
              "        if (message.buffers) {\n",
              "          for (const buffer of message.buffers) {\n",
              "            buffers.push(buffer);\n",
              "            downloaded += buffer.byteLength;\n",
              "            progress.value = downloaded;\n",
              "          }\n",
              "        }\n",
              "      }\n",
              "      const blob = new Blob(buffers, {type: 'application/binary'});\n",
              "      const a = document.createElement('a');\n",
              "      a.href = window.URL.createObjectURL(blob);\n",
              "      a.download = filename;\n",
              "      div.appendChild(a);\n",
              "      a.click();\n",
              "      div.remove();\n",
              "    }\n",
              "  "
            ]
          },
          "metadata": {}
        },
        {
          "output_type": "display_data",
          "data": {
            "text/plain": [
              "<IPython.core.display.Javascript object>"
            ],
            "application/javascript": [
              "download(\"download_79959956-6db3-44d6-905a-4392685cb7fe\", \"extracted_file.csv\", 790667)"
            ]
          },
          "metadata": {}
        }
      ]
    }
  ],
  "metadata": {
    "colab": {
      "provenance": []
    },
    "kernelspec": {
      "display_name": "Python 3",
      "name": "python3"
    },
    "language_info": {
      "name": "python"
    }
  },
  "nbformat": 4,
  "nbformat_minor": 0
}